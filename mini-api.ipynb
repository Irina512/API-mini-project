{
 "cells": [
  {
   "cell_type": "markdown",
   "id": "1cdc3715",
   "metadata": {},
   "source": [
    "Collect data from the Franfurt Stock Exchange, for the ticker AFX_X, for the whole year 2017 (keep in mind that the date format is YYYY-MM-DD).\n",
    "Convert the returned JSON object into a Python dictionary.\n",
    "Calculate what the highest and lowest opening prices were for the stock in this period.\n",
    "What was the largest change in any one day (based on High and Low price)?\n",
    "What was the largest change between any two days (based on Closing Price)?\n",
    "What was the average daily trading volume during this year?\n",
    "(Optional) What was the median trading volume during this year. (Note: you may need to implement your own function for calculating the median.)\n"
   ]
  },
  {
   "cell_type": "code",
   "execution_count": 24,
   "id": "9a7caf52",
   "metadata": {},
   "outputs": [],
   "source": [
    "import os\n",
    "from dotenv import load_dotenv, find_dotenv\n",
    "\n",
    "# find .env automagically by walking up directories until it's found\n",
    "dotenv_path = find_dotenv()\n",
    "\n",
    "# load up the entries as environment variables\n",
    "load_dotenv(dotenv_path)\n",
    "\n",
    "key = os.environ.get(\"KEY\")"
   ]
  },
  {
   "cell_type": "code",
   "execution_count": 25,
   "id": "f7208026",
   "metadata": {},
   "outputs": [
    {
     "name": "stdout",
     "output_type": "stream",
     "text": [
      "<class 'dict'>\n",
      "dict_keys(['dataset_data'])\n"
     ]
    }
   ],
   "source": [
    "# Import requests and json to pull json from the web\n",
    "import requests\n",
    "import json\n",
    "from dotenv import load_dotenv\n",
    "import os\n",
    "\n",
    "url='https://data.nasdaq.com/api/v3/datasets/FSE/AFX_X/data.json?&start_date=2017-01-01&end_date=2017-12-31&api_key='+str(API_KEY)\n",
    "\n",
    "json_file = requests.get(url)\n",
    "\n",
    "#load the JSON file into json_data\n",
    "json_data=json_file.json()\n",
    "\n",
    "#check the loaded data type\n",
    "print(type(json_data))\n",
    "print(json_data.keys())\n",
    "\n",
    "\n",
    "\n"
   ]
  },
  {
   "cell_type": "markdown",
   "id": "4e9df816",
   "metadata": {},
   "source": [
    "We can see that the data type loaded from the JSON file is a Python dictionary. The only key there is 'dataset_data'\n",
    "We need to dig deeper into the dictionary to get to the data we need."
   ]
  },
  {
   "cell_type": "code",
   "execution_count": 26,
   "id": "790cca14",
   "metadata": {},
   "outputs": [
    {
     "name": "stdout",
     "output_type": "stream",
     "text": [
      "dict_keys(['limit', 'transform', 'column_index', 'column_names', 'start_date', 'end_date', 'frequency', 'data', 'collapse', 'order'])\n",
      "['Date', 'Open', 'High', 'Low', 'Close', 'Change', 'Traded Volume', 'Turnover', 'Last Price of the Day', 'Daily Traded Units', 'Daily Turnover']\n",
      "['2017-12-29', 51.76, 51.94, 51.45, 51.76, None, 34640.0, 1792304.0, None, None, None]\n"
     ]
    }
   ],
   "source": [
    "print(json_data['dataset_data'].keys())\n",
    "print(json_data['dataset_data']['column_names'])  \n",
    "print(json_data['dataset_data']['data'][0])"
   ]
  },
  {
   "cell_type": "markdown",
   "id": "6753c3de",
   "metadata": {},
   "source": [
    "It looks like the variable names are in the 'column_names' list such as 'Date', 'Open', 'High', 'Low', etc.\n",
    "The observations corresponding to the variables are in the 'data' list.\n",
    "\n",
    "To calculate what the highest and lowest opening prices were for the stock in this period, we will complile a new list\n",
    "of observations for the 'Open' variables and get the min and max values."
   ]
  },
  {
   "cell_type": "code",
   "execution_count": 27,
   "id": "9b0c5082",
   "metadata": {},
   "outputs": [
    {
     "name": "stdout",
     "output_type": "stream",
     "text": [
      "Highest opening price is 53.11\n",
      "Lowest opening price is 34.0\n"
     ]
    }
   ],
   "source": [
    "# store the data list in 'data'\n",
    "data=json_data['dataset_data']['data']\n",
    "\n",
    "# set variable name\n",
    "varname='Open'\n",
    "\n",
    "# get the index corresponding to 'Open' in the 'column_names' list, store in varname_index\n",
    "varname_index=json_data['dataset_data']['column_names'].index(varname)\n",
    "\n",
    "# start a new list to collect all open prices\n",
    "varname_list=[]\n",
    "\n",
    "# iterate over the elements of the data list to get the 'open'/opening price data for 2017\n",
    "for i in range(len(data)):\n",
    "    if data[i][varname_index]:\n",
    "        varname_list.append(data[i][varname_index])\n",
    "       \n",
    "# Print the max and the min opening price\n",
    "print(\"Highest opening price is \"+ str(max(varname_list)))\n",
    "print(\"Lowest opening price is \"+ str(min(varname_list)))"
   ]
  },
  {
   "cell_type": "markdown",
   "id": "fbdcb8fb",
   "metadata": {},
   "source": [
    "To find what was the largest change in any one day (based on High and Low price), we do the same as before: put a list\n",
    "of values from the 'Data' list, except for the stored list values will be the diffrence between the High and Low price"
   ]
  },
  {
   "cell_type": "code",
   "execution_count": 28,
   "id": "a73b0d75",
   "metadata": {},
   "outputs": [
    {
     "name": "stdout",
     "output_type": "stream",
     "text": [
      "Largest price change in a day, High - Low,  is 2.8100000000000023\n"
     ]
    }
   ],
   "source": [
    "\n",
    "HighPrice='High'\n",
    "LowPrice='Low'\n",
    "\n",
    "# get the index corresponding to 'Open' in the 'column_names' list, store in varname_index\n",
    "HighPrice_index=json_data['dataset_data']['column_names'].index(HighPrice)\n",
    "LowPrice_index=json_data['dataset_data']['column_names'].index(LowPrice)\n",
    "\n",
    "# start a new list to collect all open prices\n",
    "varname_list=[]\n",
    "\n",
    "# iterate over the elements of the data list to get the difference between High and Low price\n",
    "for i in range(len(data)):\n",
    "    if (data[i][HighPrice_index]):\n",
    "        if(data[i][LowPrice_index]):\n",
    "            varname_list.append(data[i][HighPrice_index]-data[i][LowPrice_index])\n",
    "            \n",
    "# Print the max and the min opening price\n",
    "print(\"Largest price change in a day, High - Low,  is \"+ str(max(varname_list)))\n",
    "        "
   ]
  },
  {
   "cell_type": "markdown",
   "id": "a2348ae6",
   "metadata": {},
   "source": [
    "To answer the question \"What was the largest change between any two days (based on Closing Price)?\", we will\n",
    "create a list, similar to previous ones, except for the elements of the list will be the difference between closing prices\n",
    "between day N and day N+1 starting with the second (index 1) day. After that we can take the maximum absolute value\n",
    "in the price change, which would encompass both rises and falls in price in two consecutive days.\n"
   ]
  },
  {
   "cell_type": "code",
   "execution_count": 29,
   "id": "976c84c6",
   "metadata": {},
   "outputs": [
    {
     "name": "stdout",
     "output_type": "stream",
     "text": [
      "Largest change between any two days is 2.559999999999995\n"
     ]
    }
   ],
   "source": [
    "\n",
    "varname='Close'\n",
    "# get the index corresponding to 'Open' in the 'column_names' list, store in varname_index\n",
    "varname_index=json_data['dataset_data']['column_names'].index(varname)\n",
    "\n",
    "# start a new list to collect all open prices\n",
    "varname_list=[]\n",
    "\n",
    "# iterate over the elements of the data list to get the difference in closing price between two consecutive days\n",
    "for i in range(len(data)):\n",
    "    if data[i][varname_index]:\n",
    "        if i>=1:\n",
    "            varname_list.append(abs(data[i][varname_index]-data[i-1][varname_index]))\n",
    "# Print the max and the min opening price\n",
    "print(\"Largest change between any two days is \"+ str(max(varname_list)))\n"
   ]
  },
  {
   "cell_type": "markdown",
   "id": "b833fbe5",
   "metadata": {},
   "source": [
    "To get the average daily volume during the year, we will do the same exercise as in getting the highest/lowest opening price. The only differences are the variable name - Trade Volume, and the stat- average."
   ]
  },
  {
   "cell_type": "code",
   "execution_count": 30,
   "id": "6117ff05",
   "metadata": {},
   "outputs": [
    {
     "name": "stdout",
     "output_type": "stream",
     "text": [
      "The average trade volume is 89124.33725490196\n"
     ]
    }
   ],
   "source": [
    "#What was the average daily trading volume during this year?\n",
    "varname='Traded Volume'\n",
    "# get the index corresponding to 'Open' in the 'column_names' list, store in varname_index\n",
    "varname_index=json_data['dataset_data']['column_names'].index(varname)\n",
    "\n",
    "# start a new list to collect all open prices\n",
    "varname_list=[]\n",
    "\n",
    "# iterate over the elements of the data list to get the 'open'/opening price data for 2017\n",
    "for i in range(len(data)):\n",
    "    if data[i][varname_index]:\n",
    "        varname_list.append(data[i][varname_index])\n",
    "       \n",
    "# Print the max and the min opening price\n",
    "print(\"The average trade volume is \"+ str(sum(varname_list)/len(varname_list)))"
   ]
  }
 ],
 "metadata": {
  "kernelspec": {
   "display_name": "Python 3",
   "language": "python",
   "name": "python3"
  },
  "language_info": {
   "codemirror_mode": {
    "name": "ipython",
    "version": 3
   },
   "file_extension": ".py",
   "mimetype": "text/x-python",
   "name": "python",
   "nbconvert_exporter": "python",
   "pygments_lexer": "ipython3",
   "version": "3.8.8"
  }
 },
 "nbformat": 4,
 "nbformat_minor": 5
}
